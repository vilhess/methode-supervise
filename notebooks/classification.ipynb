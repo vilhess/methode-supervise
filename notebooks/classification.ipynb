{
 "cells": [
  {
   "cell_type": "code",
   "execution_count": null,
   "metadata": {},
   "outputs": [],
   "source": [
    "# importation de quelques librairies\n",
    "\n",
    "import pandas as pd\n",
    "import matplotlib.pyplot as plt\n",
    "import seaborn as sns\n",
    "from sklearn.model_selection import train_test_split, GridSearchCV\n",
    "from sklearn.metrics import confusion_matrix, classification_report\n",
    "from sklearn.preprocessing import StandardScaler"
   ]
  },
  {
   "cell_type": "code",
   "execution_count": null,
   "metadata": {},
   "outputs": [],
   "source": [
    "# chemin de nos données d'entrainement et de test\n",
    "\n",
    "train_path = '../data/data_cla/stars_train_new.csv' # replace with your path\n",
    "test_path = '../data/data_cla/stars_test_new.csv' # replace with your path"
   ]
  },
  {
   "cell_type": "code",
   "execution_count": null,
   "metadata": {},
   "outputs": [],
   "source": [
    "# chargement des données\n",
    "\n",
    "df_train = pd.read_csv(train_path).drop('obj_ID', axis=1)\n",
    "df_test = pd.read_csv(test_path)"
   ]
  },
  {
   "attachments": {},
   "cell_type": "markdown",
   "metadata": {},
   "source": [
    "## Analyse des données"
   ]
  },
  {
   "cell_type": "code",
   "execution_count": null,
   "metadata": {},
   "outputs": [],
   "source": [
    "# visualisation des données\n",
    "\n",
    "df_train.head()"
   ]
  },
  {
   "cell_type": "code",
   "execution_count": null,
   "metadata": {},
   "outputs": [],
   "source": [
    "# informations sur les données\n",
    "\n",
    "df_train.info()"
   ]
  },
  {
   "cell_type": "code",
   "execution_count": null,
   "metadata": {},
   "outputs": [],
   "source": [
    "# description des données\n",
    "\n",
    "df_train.describe()"
   ]
  },
  {
   "cell_type": "code",
   "execution_count": null,
   "metadata": {},
   "outputs": [],
   "source": [
    "# forme des données\n",
    "\n",
    "print(df_train.shape, df_test.shape)"
   ]
  },
  {
   "cell_type": "code",
   "execution_count": null,
   "metadata": {},
   "outputs": [],
   "source": [
    "# Disrtibution des classes\n",
    "\n",
    "df_train['label'].hist()\n",
    "plt.title('Star Class')\n",
    "plt.xlabel('Class')\n",
    "plt.xticks([0,1,2])"
   ]
  },
  {
   "cell_type": "code",
   "execution_count": null,
   "metadata": {},
   "outputs": [],
   "source": [
    "# Matrice de corrélation\n",
    "\n",
    "plt.figure(figsize=(10, 10))\n",
    "sns.heatmap(df_train.corr(), annot=True, cmap='coolwarm')\n",
    "plt.title('Correlation Matrix')"
   ]
  },
  {
   "cell_type": "code",
   "execution_count": null,
   "metadata": {},
   "outputs": [],
   "source": [
    "# Distribution des variables\n",
    "\n",
    "fig = plt.figure(figsize=(20, 20))\n",
    "for i in range(len(df_train.columns)):\n",
    "    fig.add_subplot(5, 3, i+1)\n",
    "    sns.histplot(df_train.iloc[:, i], color='green', label=df_train.columns[i])\n",
    "    # show the mean and median\n",
    "    plt.axvline(df_train.iloc[:, i].mean(), linestyle='dashed', color='red', label='mean')\n",
    "    plt.axvline(df_train.iloc[:, i].median(), linestyle='dashed', color='blue', label='median')\n",
    "    plt.legend()"
   ]
  },
  {
   "attachments": {},
   "cell_type": "markdown",
   "metadata": {},
   "source": [
    "## Séparation train-test"
   ]
  },
  {
   "cell_type": "code",
   "execution_count": null,
   "metadata": {},
   "outputs": [],
   "source": [
    "# Séparation des données en train test\n",
    "\n",
    "X = df_train.drop('label', axis=1)\n",
    "y = df_train['label']\n",
    "\n",
    "X_train, X_test, y_train, y_test = train_test_split(X, y, random_state=1)"
   ]
  },
  {
   "attachments": {},
   "cell_type": "markdown",
   "metadata": {},
   "source": [
    "## Random Forest Classifier"
   ]
  },
  {
   "cell_type": "code",
   "execution_count": null,
   "metadata": {},
   "outputs": [],
   "source": [
    "from sklearn.ensemble import RandomForestClassifier\n",
    "\n",
    "rf = RandomForestClassifier()\n",
    "\n",
    "# Définition de notre espaces de paramètres\n",
    "\n",
    "params = {\n",
    "    'n_estimators': [10, 50, 100, 200],\n",
    "    'max_depth': [None, 5, 10, 20],\n",
    "    'min_samples_split': [2, 5, 10],\n",
    "    'min_samples_leaf': [1, 2, 5]\n",
    "}\n",
    "\n",
    "# Recherche des meilleurs paramètres\n",
    "grid = GridSearchCV(rf, params, cv=5, n_jobs=-1, verbose=1)\n",
    "\n",
    "grid.fit(X_train, y_train)\n",
    "\n",
    "print(f\"paramètres optimaux : {grid.best_params_}\")\n",
    "\n",
    "print(f\"meilleur score : {grid.best_score_}\")\n",
    "\n",
    "# Prédiction sur les données de test\n",
    "\n",
    "y_preds = grid.predict(X_test)\n",
    "\n",
    "# Matrice de confusion\n",
    "\n",
    "sns.heatmap(confusion_matrix(y_test, y_preds), annot=True, cmap='coolwarm')\n",
    "\n",
    "# Sauvegarde des résultats pour streamlit\n",
    "\n",
    "new_results = pd.DataFrame({'y_test': y_test,\n",
    "                            'y_preds': y_preds})\n",
    "\n",
    "new_results.to_csv('../résultats_models/classif/random_forest.csv', index=False)\n",
    "\n",
    "# soumission des résultats\n",
    "\n",
    "rf = RandomForestClassifier(**grid.best_params_)\n",
    "\n",
    "rf.fit(df_train.drop('label', axis=1), df_train['label'])\n",
    "\n",
    "y_preds = rf.predict(df_test.drop('obj_ID', axis=1))\n",
    "\n",
    "submission = pd.DataFrame({'obj_ID': df_test['obj_ID'],\n",
    "                            'label': y_preds})\n",
    "\n",
    "submission.to_csv('../soumission/classif/random_forest.csv', index=False)"
   ]
  },
  {
   "attachments": {},
   "cell_type": "markdown",
   "metadata": {},
   "source": [
    "## CatBoost Classifier"
   ]
  },
  {
   "cell_type": "code",
   "execution_count": null,
   "metadata": {},
   "outputs": [],
   "source": [
    "from catboost import CatBoostClassifier\n",
    "\n",
    "# Définition de notre modèle\n",
    "\n",
    "cat = CatBoostClassifier(n_estimators=3000, max_depth=10, learning_rate=0.01)\n",
    "\n",
    "# Entrainement du modèle\n",
    "\n",
    "cat.fit(X_train, y_train, verbose=1)\n",
    "\n",
    "# Prédiction sur les données de test\n",
    "\n",
    "y_preds = cat.predict(X_test)\n",
    "\n",
    "# Matrice de confusion\n",
    "\n",
    "sns.heatmap(confusion_matrix(y_test, y_preds), annot=True, cmap='coolwarm')\n",
    "\n",
    "# Sauvegarde des résultats pour streamlit\n",
    "\n",
    "new_results = pd.DataFrame({'y_test': y_test,\n",
    "                            'y_preds': y_preds.ravel()})\n",
    "\n",
    "new_results.to_csv('../résultats_models/classif/catboost.csv', index=False)\n",
    "\n",
    "# soumission des résultats\n",
    "\n",
    "cat = CatBoostClassifier(n_estimators=3000, max_depth=10, learning_rate=0.01)\n",
    "\n",
    "cat.fit(df_train.drop('label', axis=1), df_train['label'], verbose=1)\n",
    "\n",
    "y_preds = cat.predict(df_test.drop('obj_ID', axis=1))\n",
    "\n",
    "submission = pd.DataFrame({'obj_ID': df_test['obj_ID'],\n",
    "                            'label': y_preds.ravel()})\n",
    "\n",
    "submission.to_csv('../soumission/classif/catboost.csv', index=False)\n"
   ]
  },
  {
   "attachments": {},
   "cell_type": "markdown",
   "metadata": {},
   "source": [
    "## Normalisation des données"
   ]
  },
  {
   "cell_type": "code",
   "execution_count": null,
   "metadata": {},
   "outputs": [],
   "source": [
    "scaler = StandardScaler()\n",
    "\n",
    "X_train_scaled = scaler.fit_transform(X_train)\n",
    "X_test_scaled = scaler.transform(X_test)\n",
    "\n",
    "df_train_scaled = scaler.fit_transform(df_train.drop('label', axis=1))\n",
    "df_test_scaled = scaler.transform(df_test.drop('obj_ID', axis=1))"
   ]
  },
  {
   "cell_type": "markdown",
   "metadata": {},
   "source": [
    "## Random Forest Classifier"
   ]
  },
  {
   "cell_type": "code",
   "execution_count": null,
   "metadata": {},
   "outputs": [],
   "source": [
    "from sklearn.ensemble import RandomForestClassifier\n",
    "\n",
    "rf = RandomForestClassifier()\n",
    "\n",
    "# Définition de notre espaces de paramètres\n",
    "\n",
    "params = {\n",
    "    'n_estimators': [10, 50, 100, 200],\n",
    "    'max_depth': [None, 5, 10, 20],\n",
    "    'min_samples_split': [2, 5, 10],\n",
    "    'min_samples_leaf': [1, 2, 5]\n",
    "}\n",
    "\n",
    "# Recherche des meilleurs paramètres\n",
    "grid = GridSearchCV(rf, params, cv=5, n_jobs=-1, verbose=1)\n",
    "\n",
    "grid.fit(X_train_scaled, y_train)\n",
    "\n",
    "print(f\"paramètres optimaux : {grid.best_params_}\")\n",
    "\n",
    "print(f\"meilleur score : {grid.best_score_}\")\n",
    "\n",
    "# Prédiction sur les données de test\n",
    "\n",
    "y_preds = grid.predict(X_test_scaled)\n",
    "\n",
    "# Matrice de confusion\n",
    "\n",
    "sns.heatmap(confusion_matrix(y_test, y_preds), annot=True, cmap='coolwarm')\n",
    "\n",
    "# Sauvegarde des résultats pour streamlit\n",
    "\n",
    "new_results = pd.DataFrame({'y_test': y_test,\n",
    "                            'y_preds': y_preds})\n",
    "\n",
    "new_results.to_csv('../résultats_models/classif/random_forest_scaled.csv', index=False)\n",
    "\n",
    "# soumission des résultats\n",
    "\n",
    "rf = RandomForestClassifier(**grid.best_params_)\n",
    "\n",
    "rf.fit(df_train_scaled.drop('label', axis=1), df_train_scaled['label'])\n",
    "\n",
    "y_preds = rf.predict(df_test_scaled.drop('obj_ID', axis=1))\n",
    "\n",
    "submission = pd.DataFrame({'obj_ID': df_test_scaled['obj_ID'],\n",
    "                            'label': y_preds})\n",
    "\n",
    "submission.to_csv('../soumission/classif/random_forest_scaled.csv', index=False)"
   ]
  },
  {
   "cell_type": "code",
   "execution_count": null,
   "metadata": {},
   "outputs": [],
   "source": [
    "from catboost import CatBoostClassifier\n",
    "\n",
    "# Définition de notre modèle\n",
    "\n",
    "cat = CatBoostClassifier(n_estimators=3000, max_depth=10, learning_rate=0.01)\n",
    "\n",
    "# Entrainement du modèle\n",
    "\n",
    "cat.fit(X_train_scaled, y_train, verbose=1)\n",
    "\n",
    "# Prédiction sur les données de test\n",
    "\n",
    "y_preds = cat.predict(X_test_scaled)\n",
    "\n",
    "# Matrice de confusion\n",
    "\n",
    "sns.heatmap(confusion_matrix(y_test, y_preds), annot=True, cmap='coolwarm')\n",
    "\n",
    "# Sauvegarde des résultats pour streamlit\n",
    "\n",
    "new_results = pd.DataFrame({'y_test': y_test,\n",
    "                            'y_preds': y_preds.ravel()})\n",
    "\n",
    "new_results.to_csv('../résultats_models/classif/catboost_scaled.csv', index=False)\n",
    "\n",
    "# soumission des résultats\n",
    "\n",
    "cat = CatBoostClassifier(n_estimators=3000, max_depth=10, learning_rate=0.01)\n",
    "\n",
    "cat.fit(df_train_scaled.drop('label', axis=1), df_train_scaled['label'], verbose=1)\n",
    "\n",
    "y_preds = cat.predict(df_test_scaled.drop('obj_ID', axis=1))\n",
    "\n",
    "submission = pd.DataFrame({'obj_ID': df_test_scaled['obj_ID'],\n",
    "                            'label': y_preds.ravel()})\n",
    "\n",
    "submission.to_csv('../soumission/classif/catboost_scaled.csv', index=False)\n"
   ]
  }
 ],
 "metadata": {
  "kernelspec": {
   "display_name": "base",
   "language": "python",
   "name": "python3"
  },
  "language_info": {
   "codemirror_mode": {
    "name": "ipython",
    "version": 3
   },
   "file_extension": ".py",
   "mimetype": "text/x-python",
   "name": "python",
   "nbconvert_exporter": "python",
   "pygments_lexer": "ipython3",
   "version": "3.11.3"
  },
  "orig_nbformat": 4,
  "vscode": {
   "interpreter": {
    "hash": "970b6e94afd843568256675086d87407db15a8cd9814ea6ad86d69153853824c"
   }
  }
 },
 "nbformat": 4,
 "nbformat_minor": 2
}
