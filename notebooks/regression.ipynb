{
 "cells": [
  {
   "cell_type": "code",
   "execution_count": null,
   "metadata": {},
   "outputs": [],
   "source": [
    "# importation de quelques librairies\n",
    "\n",
    "import pandas as pd\n",
    "import seaborn as sns\n",
    "import matplotlib.pyplot as plt\n",
    "import numpy as np\n",
    "from sklearn.model_selection import train_test_split, GridSearchCV\n",
    "from sklearn.metrics import r2_score\n",
    "from sklearn.preprocessing import StandardScaler"
   ]
  },
  {
   "cell_type": "code",
   "execution_count": null,
   "metadata": {},
   "outputs": [],
   "source": [
    "# chemin de nos données d'entrainement et de test\n",
    "\n",
    "train_path = '../data/data_reg/wine_train.csv' # replace with your path\n",
    "test_path = '../data/data_reg/wine_test.csv' # replace with your path\n",
    "\n",
    "# chargement des données\n",
    "\n",
    "df_train = pd.read_csv(train_path).drop('wine_ID', axis=1)\n",
    "df_test = pd.read_csv(test_path)"
   ]
  },
  {
   "attachments": {},
   "cell_type": "markdown",
   "metadata": {},
   "source": [
    "## Analyse des données"
   ]
  },
  {
   "cell_type": "code",
   "execution_count": null,
   "metadata": {},
   "outputs": [],
   "source": [
    "# visualisation des données\n",
    "\n",
    "df_train.head()"
   ]
  },
  {
   "cell_type": "code",
   "execution_count": null,
   "metadata": {},
   "outputs": [],
   "source": [
    "# informations sur les données\n",
    "\n",
    "df_train.info()"
   ]
  },
  {
   "cell_type": "code",
   "execution_count": null,
   "metadata": {},
   "outputs": [],
   "source": [
    "# description des données\n",
    "\n",
    "df_train.describe()"
   ]
  },
  {
   "cell_type": "code",
   "execution_count": null,
   "metadata": {},
   "outputs": [],
   "source": [
    "# forme des données\n",
    "\n",
    "print(df_train.shape, df_test.shape)"
   ]
  },
  {
   "cell_type": "code",
   "execution_count": null,
   "metadata": {},
   "outputs": [],
   "source": [
    "# Disrtibution des classes\n",
    "\n",
    "df_train['target'].hist()\n",
    "plt.title('Quality distribution')\n",
    "plt.xlabel('Quality')"
   ]
  },
  {
   "cell_type": "code",
   "execution_count": null,
   "metadata": {},
   "outputs": [],
   "source": [
    "# Matrice de corrélation\n",
    "\n",
    "plt.figure(figsize=(10, 10))\n",
    "sns.heatmap(df_train.corr(), annot=True, cmap='coolwarm')\n",
    "plt.title('Correlation Matrix')"
   ]
  },
  {
   "cell_type": "code",
   "execution_count": null,
   "metadata": {},
   "outputs": [],
   "source": [
    "# Distribution des variables\n",
    "\n",
    "fig = plt.figure(figsize=(20, 20))\n",
    "for i in range(len(df_train.columns)):\n",
    "    fig.add_subplot(5, 3, i+1)\n",
    "    sns.histplot(df_train.iloc[:, i], color='green', label=df_train.columns[i])\n",
    "    # show the mean and median\n",
    "    plt.axvline(df_train.iloc[:, i].mean(), linestyle='dashed', color='red', label='mean')\n",
    "    plt.axvline(df_train.iloc[:, i].median(), linestyle='dashed', color='blue', label='median')\n",
    "    plt.legend()"
   ]
  },
  {
   "attachments": {},
   "cell_type": "markdown",
   "metadata": {},
   "source": [
    "## Séparation train-test"
   ]
  },
  {
   "cell_type": "code",
   "execution_count": null,
   "metadata": {},
   "outputs": [],
   "source": [
    "# Séparation des données en train test\n",
    "\n",
    "X = df_train.drop('target', axis=1)\n",
    "y = df_train['target']\n",
    "\n",
    "X_train, X_test, y_train, y_test = train_test_split(X, y, random_state=1)"
   ]
  },
  {
   "cell_type": "markdown",
   "metadata": {},
   "source": [
    "## Linear Regression"
   ]
  },
  {
   "cell_type": "code",
   "execution_count": null,
   "metadata": {},
   "outputs": [],
   "source": [
    "from sklearn.linear_model import LinearRegression\n",
    "\n",
    "model = LinearRegression()\n",
    "\n",
    "# Entrainement du modèle\n",
    "\n",
    "model.fit(X_train, y_train)\n",
    "\n",
    "# Prédiction sur les données de test\n",
    "\n",
    "y_preds = model.predict(X_test)\n",
    "\n",
    "# Evaluation du modèle\n",
    "\n",
    "print(f\"Le r2 vaut : {r2_score(y_test, y_preds)}\")\n",
    "\n",
    "# Sauvegarde des résultats pour streamlit\n",
    "\n",
    "new_results = pd.DataFrame({'y_test': y_test,\n",
    "                            'y_preds': y_preds})\n",
    "\n",
    "new_results.to_csv('../résultats_models/regression/linear_regression.csv', index=False)\n",
    "\n",
    "# soumission des résultats\n",
    "\n",
    "model = LinearRegression()\n",
    "\n",
    "model.fit(X, y)\n",
    "\n",
    "y_preds = model.predict(df_test.drop('wine_ID', axis=1))\n",
    "\n",
    "submission = pd.DataFrame({'wine_ID': df_test['wine_ID'],\n",
    "                            'target': y_preds})\n",
    "\n",
    "submission.to_csv('../soumission/regression/linear_regression.csv', index=False)\n",
    "\n"
   ]
  },
  {
   "attachments": {},
   "cell_type": "markdown",
   "metadata": {},
   "source": [
    "## CatBoost Regressor"
   ]
  },
  {
   "cell_type": "code",
   "execution_count": null,
   "metadata": {},
   "outputs": [],
   "source": [
    "from catboost import CatBoostRegressor\n",
    "\n",
    "model = CatBoostRegressor(iterations=10000, depth=10, learning_rate=0.1, loss_function='RMSE', eval_metric='R2', random_seed=42)\n",
    "\n",
    "# Entrainement du modèle\n",
    "\n",
    "model.fit(X_train, y_train, eval_set=(X_test, y_test), verbose=0)\n",
    "\n",
    "# Prédiction sur les données de test\n",
    "\n",
    "y_preds = model.predict(X_test)\n",
    "\n",
    "# Evaluation du modèle\n",
    "\n",
    "print(f'Le r2 vaut : {r2_score(y_test, y_preds)}')\n",
    "\n",
    "# Sauvegarde des résultats pour streamlit\n",
    "\n",
    "new_results = pd.DataFrame({'y_test': y_test,\n",
    "                            'y_preds': y_preds})\n",
    "\n",
    "new_results.to_csv('../résultats_models/regression/catboost.csv', index=False)\n",
    "\n",
    "# soumission des résultats\n",
    "\n",
    "model = CatBoostRegressor(iterations=10000, depth=10, learning_rate=0.1, loss_function='RMSE', eval_metric='R2', random_seed=42)\n",
    "\n",
    "model.fit(X, y, verbose=0)\n",
    "\n",
    "y_preds = model.predict(df_test.drop('wine_ID', axis=1))\n",
    "\n",
    "submission = pd.DataFrame({'wine_ID': df_test['wine_ID'],\n",
    "                            'target': y_preds})\n",
    "\n",
    "submission.to_csv('../soumission/regression/catboost.csv', index=False)"
   ]
  },
  {
   "attachments": {},
   "cell_type": "markdown",
   "metadata": {},
   "source": [
    "## Random Forest Regressor"
   ]
  },
  {
   "cell_type": "code",
   "execution_count": null,
   "metadata": {},
   "outputs": [],
   "source": [
    "from sklearn.ensemble import RandomForestRegressor\n",
    "\n",
    "# Définition de notre espaces de paramètres\n",
    "\n",
    "params = {'n_estimators': [100, 200, 300, 400, 500],\n",
    "            'max_depth': [5, 10, 15, 20, 25],\n",
    "            'min_samples_split': [2, 5, 10, 15, 20],\n",
    "            'min_samples_leaf': [1, 2, 5, 10, 15]}\n",
    "\n",
    "# Création de notre modèle\n",
    "\n",
    "model = RandomForestRegressor(random_state=42)\n",
    "\n",
    "# Création de notre grille de recherche\n",
    "\n",
    "grid = GridSearchCV(model, params, cv=5, scoring='r2', n_jobs=-1)\n",
    "\n",
    "# Entrainement de notre modèle\n",
    "\n",
    "grid.fit(X_train, y_train)\n",
    "\n",
    "# Affichage des meilleurs paramètres\n",
    "\n",
    "print(grid.best_params_)\n",
    "print(grid.best_score_)\n",
    "\n",
    "# Prédiction sur les données de test\n",
    "\n",
    "y_preds = grid.predict(X_test)\n",
    "\n",
    "# Evaluation du modèle\n",
    "\n",
    "print(f'Le r2 vaut : {r2_score(y_test, y_preds)}')\n",
    "\n",
    "# Sauvegarde des résultats pour streamlit\n",
    "\n",
    "new_results = pd.DataFrame({'y_test': y_test,\n",
    "                            'y_preds': y_preds})\n",
    "\n",
    "new_results.to_csv('../résultats_models/regression/random_forest.csv', index=False)\n",
    "\n",
    "# soumission des résultats\n",
    "\n",
    "model = RandomForestRegressor(random_state=42)\n",
    "model.set_params(**grid.best_params_)\n",
    "\n",
    "model.fit(X, y)\n",
    "\n",
    "y_preds = model.predict(df_test.drop('wine_ID', axis=1))\n",
    "\n",
    "submission = pd.DataFrame({'wine_ID': df_test['wine_ID'],\n",
    "                            'target': y_preds})\n",
    "\n",
    "submission.to_csv('../soumission/regression/random_forest.csv', index=False)"
   ]
  },
  {
   "attachments": {},
   "cell_type": "markdown",
   "metadata": {},
   "source": [
    "## Normalisation des données"
   ]
  },
  {
   "cell_type": "code",
   "execution_count": null,
   "metadata": {},
   "outputs": [],
   "source": [
    "scaler = StandardScaler()\n",
    "\n",
    "X_train_scaled = scaler.fit_transform(X_train)\n",
    "X_test_scaled = scaler.transform(X_test)\n",
    "\n",
    "df_train_scaled = scaler.fit_transform(df_train.drop('target', axis=1))\n",
    "df_test_scaled = scaler.transform(df_test.drop('wine_ID', axis=1))"
   ]
  },
  {
   "cell_type": "markdown",
   "metadata": {},
   "source": [
    "## Linear Regression"
   ]
  },
  {
   "cell_type": "code",
   "execution_count": null,
   "metadata": {},
   "outputs": [],
   "source": [
    "model = LinearRegression()\n",
    "\n",
    "# Entrainement du modèle\n",
    "\n",
    "model.fit(X_train_scaled, y_train)\n",
    "\n",
    "# Prédiction sur les données de test\n",
    "\n",
    "y_preds = model.predict(X_test_scaled)\n",
    "\n",
    "# Evaluation du modèle\n",
    "\n",
    "print(f\"Le r2 vaut : {r2_score(y_test, y_preds)}\")\n",
    "\n",
    "# Sauvegarde des résultats pour streamlit\n",
    "\n",
    "new_results = pd.DataFrame({'y_test': y_test,\n",
    "                            'y_preds': y_preds})\n",
    "\n",
    "new_results.to_csv('../résultats_models/regression/linear_regression_scaled.csv', index=False)\n",
    "\n",
    "# soumission des résultats\n",
    "\n",
    "model = LinearRegression()\n",
    "\n",
    "model.fit(df_train_scaled, y)\n",
    "\n",
    "y_preds = model.predict(df_test_scaled)\n",
    "\n",
    "submission = pd.DataFrame({'wine_ID': df_test['wine_ID'],\n",
    "                            'target': y_preds})\n",
    "\n",
    "submission.to_csv('../soumission/regression/linear_regression_scaled.csv', index=False)"
   ]
  },
  {
   "attachments": {},
   "cell_type": "markdown",
   "metadata": {},
   "source": [
    "## CatBoost Regressor"
   ]
  },
  {
   "cell_type": "code",
   "execution_count": null,
   "metadata": {},
   "outputs": [],
   "source": [
    "model = CatBoostRegressor(iterations=10000, depth=10, learning_rate=0.1, loss_function='RMSE', eval_metric='R2', random_seed=42)\n",
    "\n",
    "# Entrainement du modèle\n",
    "\n",
    "model.fit(X_train_scaled, y_train, eval_set=(X_test_scaled, y_test), verbose=0)\n",
    "\n",
    "# Prédiction sur les données de test\n",
    "\n",
    "y_preds = model.predict(X_test_scaled)\n",
    "\n",
    "# Evaluation du modèle\n",
    "\n",
    "print(f'Le r2 vaut : {r2_score(y_test, y_preds)}')\n",
    "\n",
    "# Sauvegarde des résultats pour streamlit\n",
    "\n",
    "new_results = pd.DataFrame({'y_test': y_test,\n",
    "                            'y_preds': y_preds})\n",
    "\n",
    "new_results.to_csv('../résultats_models/regression/catboost_scaled.csv', index=False)\n",
    "\n",
    "# soumission des résultats\n",
    "\n",
    "model = CatBoostRegressor(iterations=10000, depth=10, learning_rate=0.1, loss_function='RMSE', eval_metric='R2', random_seed=42)\n",
    "\n",
    "model.fit(df_train_scaled, y, verbose=0)\n",
    "\n",
    "y_preds = model.predict(df_test_scaled)\n",
    "\n",
    "submission = pd.DataFrame({'wine_ID': df_test['wine_ID'],\n",
    "                            'target': y_preds})\n",
    "\n",
    "submission.to_csv('../soumission/regression/catboost_scaled.csv', index=False)"
   ]
  },
  {
   "cell_type": "markdown",
   "metadata": {},
   "source": [
    "## Random Forest Regressor"
   ]
  },
  {
   "cell_type": "code",
   "execution_count": null,
   "metadata": {},
   "outputs": [],
   "source": [
    "model = RandomForestRegressor(random_state=42)\n",
    "\n",
    "# Définition de notre espaces de paramètres\n",
    "\n",
    "params = {'n_estimators': [100, 200, 300, 400, 500],\n",
    "            'max_depth': [5, 10, 15, 20, 25],\n",
    "            'min_samples_split': [2, 5, 10, 15, 20],\n",
    "            'min_samples_leaf': [1, 2, 5, 10, 15]}\n",
    "\n",
    "# Création de notre grille de recherche\n",
    "\n",
    "grid = GridSearchCV(model, params, cv=5, scoring='r2', n_jobs=-1)\n",
    "\n",
    "# Entrainement de notre modèle\n",
    "\n",
    "grid.fit(X_train_scaled, y_train)\n",
    "\n",
    "# Affichage des meilleurs paramètres\n",
    "\n",
    "print(grid.best_params_)\n",
    "print(grid.best_score_)\n",
    "\n",
    "# Prédiction sur les données de test\n",
    "\n",
    "y_preds = grid.predict(X_test_scaled)\n",
    "\n",
    "# Evaluation du modèle\n",
    "\n",
    "print(f'Le r2 vaut : {r2_score(y_test, y_preds)}')\n",
    "\n",
    "# Sauvegarde des résultats pour streamlit\n",
    "\n",
    "new_results = pd.DataFrame({'y_test': y_test,\n",
    "                            'y_preds': y_preds})\n",
    "\n",
    "new_results.to_csv('../résultats_models/regression/random_forest_scaled.csv', index=False)\n",
    "\n",
    "# soumission des résultats\n",
    "\n",
    "model = RandomForestRegressor(random_state=42)\n",
    "model.set_params(**grid.best_params_)\n",
    "\n",
    "model.fit(df_train_scaled, y)\n",
    "\n",
    "y_preds = model.predict(df_test_scaled)\n",
    "\n",
    "submission = pd.DataFrame({'wine_ID': df_test['wine_ID'],\n",
    "                            'target': y_preds})\n",
    "\n",
    "submission.to_csv('../soumission/regression/random_forest_scaled.csv', index=False)"
   ]
  }
 ],
 "metadata": {
  "kernelspec": {
   "display_name": "base",
   "language": "python",
   "name": "python3"
  },
  "language_info": {
   "codemirror_mode": {
    "name": "ipython",
    "version": 3
   },
   "file_extension": ".py",
   "mimetype": "text/x-python",
   "name": "python",
   "nbconvert_exporter": "python",
   "pygments_lexer": "ipython3",
   "version": "3.11.3"
  },
  "orig_nbformat": 4,
  "vscode": {
   "interpreter": {
    "hash": "970b6e94afd843568256675086d87407db15a8cd9814ea6ad86d69153853824c"
   }
  }
 },
 "nbformat": 4,
 "nbformat_minor": 2
}
